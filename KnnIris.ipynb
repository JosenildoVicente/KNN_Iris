{
  "nbformat": 4,
  "nbformat_minor": 0,
  "metadata": {
    "colab": {
      "name": "KnnIris",
      "provenance": [],
      "collapsed_sections": [],
      "authorship_tag": "ABX9TyOywR5kBl5idzm4TXu14/Vg",
      "include_colab_link": true
    },
    "kernelspec": {
      "display_name": "Python 3",
      "name": "python3"
    },
    "language_info": {
      "name": "python"
    }
  },
  "cells": [
    {
      "cell_type": "markdown",
      "metadata": {
        "id": "view-in-github",
        "colab_type": "text"
      },
      "source": [
        "<a href=\"https://colab.research.google.com/github/JosenildoVicente/KNN_Iris/blob/main/KnnIris.ipynb\" target=\"_parent\"><img src=\"https://colab.research.google.com/assets/colab-badge.svg\" alt=\"Open In Colab\"/></a>"
      ]
    },
    {
      "cell_type": "code",
      "metadata": {
        "colab": {
          "base_uri": "https://localhost:8080/"
        },
        "id": "72fKXVNJIpt2",
        "outputId": "c19a972b-b3db-4693-aec3-77517cab7638"
      },
      "source": [
        "#Importação dos dados:\n",
        "\n",
        "import pandas as pd\n",
        "from sklearn.model_selection import train_test_split\n",
        "from sklearn.neighbors import KNeighborsClassifier\n",
        "from sklearn.metrics import accuracy_score\n",
        "from scipy.spatial import distance\n",
        "import numpy as np\n",
        "import math\n",
        "\n",
        "dados = pd.read_csv( \"https://raw.githubusercontent.com/JosenildoVicente/KNN_Iris/main/iris.csv\", encoding=\"ISO-8859-1\" )\n",
        "\n",
        "print(dados)\n",
        "\n",
        "#Normalização dos dados:\n",
        "dados['sepal length'] = (dados['sepal length'] - min(dados['sepal length']))/(max(dados['sepal length']) - min(dados['sepal length']))\n",
        "dados['sepal width'] = (dados['sepal width'] - min(dados['sepal width']))/(max(dados['sepal width']) - min(dados['sepal width']))\n",
        "dados['petal length'] = (dados['petal length'] - min(dados['petal length']))/(max(dados['petal length']) - min(dados['petal length']))\n",
        "dados['petal width'] = (dados['petal width'] - min(dados['petal width']))/(max(dados['petal width']) - min(dados['petal width']))\n",
        "\n",
        "#Separação em dados de treino e de teste:\n",
        "x_treino, x_teste, y_treino, y_teste = train_test_split(dados.drop('class',axis=1),dados['class'],test_size=0.25, stratify=dados['class'])\n",
        "print(x_treino.shape,x_teste.shape)\n",
        "\n",
        "#Quantidade de vizinhos\n",
        "Ks = [1, 3, 5, 7, 9]\n",
        "for K in Ks:\n",
        "    print(\"Quantidade de vizinhos: \", K)\n",
        "    #KNN Scikit Learn\n",
        "\n",
        "    #Treinamento\n",
        "    modelo = KNeighborsClassifier(n_neighbors=K, weights='uniform')\n",
        "    modelo.fit(x_treino, y_treino)\n",
        "    #Teste\n",
        "    y_modelo = modelo.predict(x_teste)\n",
        "    #Acurácia\n",
        "    acuracia_Knn = accuracy_score(y_modelo, y_teste)\n",
        "    acuracia_Knn = acuracia_Knn * 100\n",
        "    print(\"Acurária do KNN Scikit Learn: \", acuracia_Knn)\n",
        "\n",
        "\n",
        "    #KNN Próprio\n",
        "\n",
        "    tamanho_treino = len(x_treino)\n",
        "    tamanho_teste = len(y_teste)\n",
        "\n",
        "    #Definir a qual classe a amostra pertence\n",
        "    def classe_modelo(numero):\n",
        "        if numero == 0:\n",
        "            return 'Iris-setosa'\n",
        "        elif numero == 2:\n",
        "            return 'Iris-virginica'\n",
        "        else:\n",
        "            return 'Iris-versicolor'\n",
        "\n",
        "    y_modelo = []\n",
        "    for indice_teste in x_teste.index:\n",
        "        dists = {}\n",
        "        ind = 0\n",
        "\n",
        "        #Calcular as distâncias da amostra(teste) para os de treino(vizinhos)\n",
        "        for indice_treino in x_treino.index:\n",
        "            d = distance.euclidean(x_treino.loc[indice_treino],x_teste.loc[indice_teste])\n",
        "            dists[ind] = [d,indice_treino]\n",
        "            ind+=1\n",
        "        k_vizinhos = sorted(dists, key= dists.get)[:K]\n",
        "\n",
        "        indice_vizinhos = []\n",
        "        for j in k_vizinhos:\n",
        "            indice_vizinhos.append(dists[j][1])\n",
        "\n",
        "        #Definir quantos vizinhos pertencem à cada classe\n",
        "        qtd_set = 0\n",
        "        qtd_vers = 0\n",
        "        qtd_virg = 0\n",
        "        for ind_vizinho in indice_vizinhos:\n",
        "            if y_treino.loc[ind_vizinho] == 'Iris-setosa':\n",
        "                qtd_set += 1\n",
        "            elif y_treino.loc[ind_vizinho] == 'Iris-versicolor':\n",
        "                qtd_vers += 1\n",
        "            else:\n",
        "                qtd_virg += 1\n",
        "\n",
        "        #Definição da classe da amostra\n",
        "        a=[qtd_set, qtd_vers, qtd_virg]\n",
        "        num = a.index(max(a))\n",
        "        y_modelo.append(classe_modelo(num))\n",
        "\n",
        "    ind = 0\n",
        "    qtd_acertos = 0\n",
        "    for i in y_teste:\n",
        "    #print(i, y_modelo[ind])\n",
        "        if y_modelo[ind] == i:\n",
        "            qtd_acertos += 1\n",
        "        ind += 1\n",
        "    #print(qtd_acertos)\n",
        "    acuracia_knnProprio = (qtd_acertos / tamanho_teste)*100\n",
        "    #print(acuracia_knnProprio)\n",
        "    print(\"A acurácia do KNN próprio é de: \", acuracia_knnProprio)"
      ],
      "execution_count": 47,
      "outputs": [
        {
          "output_type": "stream",
          "text": [
            "     sepal length  sepal width  petal length  petal width           class\n",
            "0             5.1          3.5           1.4          0.2     Iris-setosa\n",
            "1             4.9          3.0           1.4          0.2     Iris-setosa\n",
            "2             4.7          3.2           1.3          0.2     Iris-setosa\n",
            "3             4.6          3.1           1.5          0.2     Iris-setosa\n",
            "4             5.0          3.6           1.4          0.2     Iris-setosa\n",
            "..            ...          ...           ...          ...             ...\n",
            "145           6.7          3.0           5.2          2.3  Iris-virginica\n",
            "146           6.3          2.5           5.0          1.9  Iris-virginica\n",
            "147           6.5          3.0           5.2          2.0  Iris-virginica\n",
            "148           6.2          3.4           5.4          2.3  Iris-virginica\n",
            "149           5.9          3.0           5.1          1.8  Iris-virginica\n",
            "\n",
            "[150 rows x 5 columns]\n",
            "(112, 4) (38, 4)\n",
            "Quantidade de vizinhos:  1\n",
            "Acurária do KNN Scikit Learn:  97.36842105263158\n",
            "A acurácia do KNN próprio é de:  97.36842105263158\n",
            "Quantidade de vizinhos:  3\n",
            "Acurária do KNN Scikit Learn:  97.36842105263158\n",
            "A acurácia do KNN próprio é de:  97.36842105263158\n",
            "Quantidade de vizinhos:  5\n",
            "Acurária do KNN Scikit Learn:  97.36842105263158\n",
            "A acurácia do KNN próprio é de:  97.36842105263158\n",
            "Quantidade de vizinhos:  7\n",
            "Acurária do KNN Scikit Learn:  97.36842105263158\n",
            "A acurácia do KNN próprio é de:  97.36842105263158\n",
            "Quantidade de vizinhos:  9\n",
            "Acurária do KNN Scikit Learn:  97.36842105263158\n",
            "A acurácia do KNN próprio é de:  97.36842105263158\n"
          ],
          "name": "stdout"
        }
      ]
    },
    {
      "cell_type": "code",
      "metadata": {
        "colab": {
          "background_save": true
        },
        "id": "1dzNohbj2kg6"
      },
      "source": [
        "# import pandas as pd\n",
        "# from sklearn.model_selection import train_test_split\n",
        "# from sklearn.neighbors import KNeighborsClassifier\n",
        "# from sklearn.metrics import accuracy_score\n",
        "# import numpy as np\n",
        "# import math\n"
      ],
      "execution_count": null,
      "outputs": []
    },
    {
      "cell_type": "code",
      "metadata": {
        "colab": {
          "background_save": true
        },
        "id": "c1h0ohF19DbU"
      },
      "source": [
        "# dados = pd.read_csv( \"https://raw.githubusercontent.com/JosenildoVicente/KNN_Iris/main/iris.csv\", encoding=\"ISO-8859-1\" )"
      ],
      "execution_count": null,
      "outputs": []
    },
    {
      "cell_type": "code",
      "metadata": {
        "colab": {
          "background_save": true
        },
        "id": "M8sfbQ0_9O3y"
      },
      "source": [
        "# dados.info()"
      ],
      "execution_count": null,
      "outputs": []
    },
    {
      "cell_type": "markdown",
      "metadata": {
        "id": "ZUnZnHoRSnRG"
      },
      "source": [
        "#Normalização dos dados"
      ]
    },
    {
      "cell_type": "code",
      "metadata": {
        "colab": {
          "background_save": true
        },
        "id": "xpf7PQdiSbM9"
      },
      "source": [
        "# dados['sepal length'] = (dados['sepal length'] - min(dados['sepal length']))/(max(dados['sepal length']) - min(dados['sepal length']))"
      ],
      "execution_count": null,
      "outputs": []
    },
    {
      "cell_type": "code",
      "metadata": {
        "colab": {
          "background_save": true
        },
        "id": "bgta1xH4XHG9"
      },
      "source": [
        "# dados['sepal width'] = (dados['sepal width'] - min(dados['sepal width']))/(max(dados['sepal width']) - min(dados['sepal width']))"
      ],
      "execution_count": null,
      "outputs": []
    },
    {
      "cell_type": "code",
      "metadata": {
        "colab": {
          "background_save": true
        },
        "id": "5JttQuuDXd6F"
      },
      "source": [
        "# dados['petal length'] = (dados['petal length'] - min(dados['petal length']))/(max(dados['petal length']) - min(dados['petal length']))"
      ],
      "execution_count": null,
      "outputs": []
    },
    {
      "cell_type": "code",
      "metadata": {
        "colab": {
          "background_save": true
        },
        "id": "sihqOG3JXe8x"
      },
      "source": [
        "# dados['petal width'] = (dados['petal width'] - min(dados['petal width']))/(max(dados['petal width']) - min(dados['petal width']))"
      ],
      "execution_count": null,
      "outputs": []
    },
    {
      "cell_type": "code",
      "metadata": {
        "colab": {
          "background_save": true
        },
        "id": "KBd5e891ZnNp"
      },
      "source": [
        "# dados.head()"
      ],
      "execution_count": null,
      "outputs": []
    },
    {
      "cell_type": "markdown",
      "metadata": {
        "id": "ocT901Uk-PUj"
      },
      "source": [
        "#Separação dos dados em treino e teste:"
      ]
    },
    {
      "cell_type": "code",
      "metadata": {
        "colab": {
          "background_save": true
        },
        "id": "IpvrUNk2-WwC"
      },
      "source": [
        "# x_treino, x_teste, y_treino, y_teste = train_test_split(dados.drop('class',axis=1),dados['class'],test_size=0.25, stratify=dados['class'])"
      ],
      "execution_count": null,
      "outputs": []
    },
    {
      "cell_type": "code",
      "metadata": {
        "colab": {
          "background_save": true
        },
        "id": "G5yr0FRtAtIN"
      },
      "source": [
        "# x_treino.shape,x_teste.shape"
      ],
      "execution_count": null,
      "outputs": []
    },
    {
      "cell_type": "markdown",
      "metadata": {
        "id": "IymjGAqWP11F"
      },
      "source": [
        "### **KNN Scikit Learn**"
      ]
    },
    {
      "cell_type": "markdown",
      "metadata": {
        "id": "QQAxad5lBAC1"
      },
      "source": [
        "#Treinamento"
      ]
    },
    {
      "cell_type": "code",
      "metadata": {
        "colab": {
          "background_save": true
        },
        "id": "dEZRnxWdCEjt"
      },
      "source": [
        "# K = 1"
      ],
      "execution_count": null,
      "outputs": []
    },
    {
      "cell_type": "code",
      "metadata": {
        "colab": {
          "background_save": true
        },
        "id": "XNZV7w5oBGTg"
      },
      "source": [
        "# modelo = KNeighborsClassifier(n_neighbors=K, weights='uniform')"
      ],
      "execution_count": null,
      "outputs": []
    },
    {
      "cell_type": "code",
      "metadata": {
        "colab": {
          "background_save": true
        },
        "id": "9OelLEZxCAEq"
      },
      "source": [
        "# modelo.fit(x_treino, y_treino)"
      ],
      "execution_count": null,
      "outputs": []
    },
    {
      "cell_type": "markdown",
      "metadata": {
        "id": "aY0eqsiUCjXx"
      },
      "source": [
        "#Teste"
      ]
    },
    {
      "cell_type": "code",
      "metadata": {
        "colab": {
          "background_save": true
        },
        "id": "PowXYZOnCliI"
      },
      "source": [
        "# y_modelo = modelo.predict(x_teste)"
      ],
      "execution_count": null,
      "outputs": []
    },
    {
      "cell_type": "markdown",
      "metadata": {
        "id": "foRMLZ0rCyAl"
      },
      "source": [
        "#Acurácia"
      ]
    },
    {
      "cell_type": "code",
      "metadata": {
        "colab": {
          "background_save": true
        },
        "id": "gsd11zb5DhK5"
      },
      "source": [
        "# acuracia = accuracy_score(y_modelo, y_teste)"
      ],
      "execution_count": null,
      "outputs": []
    },
    {
      "cell_type": "code",
      "metadata": {
        "colab": {
          "background_save": true
        },
        "id": "XEUmGADQDxNu"
      },
      "source": [
        "# acuracia"
      ],
      "execution_count": null,
      "outputs": []
    },
    {
      "cell_type": "markdown",
      "metadata": {
        "id": "Y1NHJhTRQ9jA"
      },
      "source": [
        "### **KNN Proprio**"
      ]
    },
    {
      "cell_type": "code",
      "metadata": {
        "colab": {
          "background_save": true
        },
        "id": "FvOnZGT6RDX2"
      },
      "source": [
        "# tamanho_treino = len(x_treino)"
      ],
      "execution_count": null,
      "outputs": []
    },
    {
      "cell_type": "code",
      "metadata": {
        "colab": {
          "background_save": true
        },
        "id": "rQE8KIxebwHS"
      },
      "source": [
        "# x_treino.head()"
      ],
      "execution_count": null,
      "outputs": []
    },
    {
      "cell_type": "code",
      "metadata": {
        "colab": {
          "background_save": true
        },
        "id": "6wIJY9W4jRAO"
      },
      "source": [
        "# y_treino.head()"
      ],
      "execution_count": null,
      "outputs": []
    },
    {
      "cell_type": "code",
      "metadata": {
        "colab": {
          "background_save": true
        },
        "id": "VKsN7fqL0oGD"
      },
      "source": [
        "# def classe_modelo(numero):\n",
        "#   if numero == 0:\n",
        "#     return 'Iris-setosa'\n",
        "#   elif numero == 2:\n",
        "#     return 'Iris-virginica'\n",
        "#   else:\n",
        "#     return 'Iris-versicolor'"
      ],
      "execution_count": null,
      "outputs": []
    },
    {
      "cell_type": "code",
      "metadata": {
        "colab": {
          "background_save": true
        },
        "id": "ILzFnfGoVg8j"
      },
      "source": [
        "# from scipy.spatial import distance\n",
        "\n",
        "# y_modelo = []\n",
        "# for indice_teste in x_teste.index:\n",
        "#   dists = {}\n",
        "#   ind = 0\n",
        "#   for indice_treino in x_treino.index:\n",
        "#     d = distance.euclidean(x_treino.loc[indice_treino],x_teste.loc[indice_teste])\n",
        "#     dists[ind] = [d,indice_treino]\n",
        "#     ind+=1\n",
        "#   k_vizinhos = sorted(dists, key= dists.get)[:K]\n",
        "\n",
        "#   indice_vizinhos = []\n",
        "#   for j in k_vizinhos:\n",
        "#     indice_vizinhos.append(dists[j][1])\n",
        "\n",
        "#   qtd_set = 0\n",
        "#   qtd_vers = 0\n",
        "#   qtd_virg = 0\n",
        "#   for ind_vizinho in indice_vizinhos:\n",
        "#     # print(y_treino.loc[ind_vizinho])\n",
        "#     if y_treino.loc[ind_vizinho] == 'Iris-setosa':\n",
        "#       qtd_set += 1\n",
        "#     elif y_treino.loc[ind_vizinho] == 'Iris-versicolor':\n",
        "#       qtd_vers += 1\n",
        "#     else:\n",
        "#       qtd_virg += 1\n",
        "#     #print(dists[ind_vizinho])\n",
        "#   a=[qtd_set, qtd_vers, qtd_virg]\n",
        "#   num = a.index(max(a))\n",
        "#   y_modelo.append(classe_modelo(num))\n",
        "# print(y_teste)\n",
        "# print(y_modelo)"
      ],
      "execution_count": null,
      "outputs": []
    },
    {
      "cell_type": "code",
      "metadata": {
        "colab": {
          "background_save": true
        },
        "id": "dtBKpQwh4Mze"
      },
      "source": [
        "# ind = 0\n",
        "# qtd_acertos = 0\n",
        "# print(len(y_teste))\n",
        "# for i in y_teste:\n",
        "#   print(i, y_modelo[ind])\n",
        "#   if y_modelo[ind] == i:\n",
        "#     qtd_acertos += 1\n",
        "#     # print(\"Igual\")\n",
        "#   # else:\n",
        "#   #   print(\"Diferente\")\n",
        "#   ind += 1\n",
        "# print(qtd_acertos)\n",
        "# acuracia_knnProprio = (qtd_acertos / len(y_teste))*100\n",
        "# print(acuracia_knnProprio)"
      ],
      "execution_count": null,
      "outputs": []
    }
  ]
}