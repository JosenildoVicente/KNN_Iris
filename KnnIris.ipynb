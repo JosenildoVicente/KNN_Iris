{
  "nbformat": 4,
  "nbformat_minor": 0,
  "metadata": {
    "colab": {
      "name": "KnnIris",
      "provenance": [],
      "authorship_tag": "ABX9TyPAQNeQiXk4HU77Spf7f+vp",
      "include_colab_link": true
    },
    "kernelspec": {
      "name": "python3",
      "display_name": "Python 3"
    },
    "language_info": {
      "name": "python"
    }
  },
  "cells": [
    {
      "cell_type": "markdown",
      "metadata": {
        "id": "view-in-github",
        "colab_type": "text"
      },
      "source": [
        "<a href=\"https://colab.research.google.com/github/JosenildoVicente/KNN_Iris/blob/main/KnnIris.ipynb\" target=\"_parent\"><img src=\"https://colab.research.google.com/assets/colab-badge.svg\" alt=\"Open In Colab\"/></a>"
      ]
    },
    {
      "cell_type": "code",
      "metadata": {
        "id": "1dzNohbj2kg6"
      },
      "source": [
        "import pandas as pd\n",
        "from sklearn.model_selection import train_test_split\n",
        "from sklearn.neighbors import KNeighborsClassifier\n",
        "from sklearn.metrics import accuracy_score\n",
        "import numpy as np"
      ],
      "execution_count": 1,
      "outputs": []
    },
    {
      "cell_type": "code",
      "metadata": {
        "id": "c1h0ohF19DbU"
      },
      "source": [
        "dados = pd.read_csv( \"https://raw.githubusercontent.com/JosenildoVicente/KNN_Iris/main/iris.csv\", encoding=\"ISO-8859-1\" )"
      ],
      "execution_count": 2,
      "outputs": []
    },
    {
      "cell_type": "code",
      "metadata": {
        "colab": {
          "base_uri": "https://localhost:8080/"
        },
        "id": "M8sfbQ0_9O3y",
        "outputId": "e14eb935-3bbf-4976-e7e9-ec6fdf4bb8ba"
      },
      "source": [
        "dados.info()"
      ],
      "execution_count": 3,
      "outputs": [
        {
          "output_type": "stream",
          "text": [
            "<class 'pandas.core.frame.DataFrame'>\n",
            "RangeIndex: 150 entries, 0 to 149\n",
            "Data columns (total 5 columns):\n",
            " #   Column        Non-Null Count  Dtype  \n",
            "---  ------        --------------  -----  \n",
            " 0   sepal length  150 non-null    float64\n",
            " 1   sepal width   150 non-null    float64\n",
            " 2   petal length  150 non-null    float64\n",
            " 3   petal width   150 non-null    float64\n",
            " 4   class         150 non-null    object \n",
            "dtypes: float64(4), object(1)\n",
            "memory usage: 6.0+ KB\n"
          ],
          "name": "stdout"
        }
      ]
    },
    {
      "cell_type": "markdown",
      "metadata": {
        "id": "ocT901Uk-PUj"
      },
      "source": [
        "#Separação dos dados em treino e teste:"
      ]
    },
    {
      "cell_type": "code",
      "metadata": {
        "id": "IpvrUNk2-WwC"
      },
      "source": [
        "x_treino, x_teste, y_treino, y_teste = train_test_split(dados.drop('class',axis=1),dados['class'],test_size=0.25, stratify=dados['class'])"
      ],
      "execution_count": 4,
      "outputs": []
    },
    {
      "cell_type": "code",
      "metadata": {
        "colab": {
          "base_uri": "https://localhost:8080/"
        },
        "id": "G5yr0FRtAtIN",
        "outputId": "3266c4da-40c5-4bad-a1a8-34e6ae06c6af"
      },
      "source": [
        "x_treino.shape,x_teste.shape"
      ],
      "execution_count": 5,
      "outputs": [
        {
          "output_type": "execute_result",
          "data": {
            "text/plain": [
              "((112, 4), (38, 4))"
            ]
          },
          "metadata": {
            "tags": []
          },
          "execution_count": 5
        }
      ]
    },
    {
      "cell_type": "markdown",
      "metadata": {
        "id": "QQAxad5lBAC1"
      },
      "source": [
        "#Treinamento"
      ]
    },
    {
      "cell_type": "code",
      "metadata": {
        "id": "dEZRnxWdCEjt"
      },
      "source": [
        "K = 1"
      ],
      "execution_count": 6,
      "outputs": []
    },
    {
      "cell_type": "code",
      "metadata": {
        "id": "XNZV7w5oBGTg"
      },
      "source": [
        "modelo = KNeighborsClassifier(n_neighbors=K, weights='uniform')"
      ],
      "execution_count": 7,
      "outputs": []
    },
    {
      "cell_type": "code",
      "metadata": {
        "colab": {
          "base_uri": "https://localhost:8080/"
        },
        "id": "9OelLEZxCAEq",
        "outputId": "4db003b8-1c4a-416a-fef7-02b67f92b73e"
      },
      "source": [
        "modelo.fit(x_treino, y_treino)"
      ],
      "execution_count": 8,
      "outputs": [
        {
          "output_type": "execute_result",
          "data": {
            "text/plain": [
              "KNeighborsClassifier(algorithm='auto', leaf_size=30, metric='minkowski',\n",
              "                     metric_params=None, n_jobs=None, n_neighbors=1, p=2,\n",
              "                     weights='uniform')"
            ]
          },
          "metadata": {
            "tags": []
          },
          "execution_count": 8
        }
      ]
    },
    {
      "cell_type": "markdown",
      "metadata": {
        "id": "aY0eqsiUCjXx"
      },
      "source": [
        "#Teste"
      ]
    },
    {
      "cell_type": "code",
      "metadata": {
        "id": "PowXYZOnCliI"
      },
      "source": [
        "y_modelo = modelo.predict(x_teste)"
      ],
      "execution_count": 9,
      "outputs": []
    },
    {
      "cell_type": "markdown",
      "metadata": {
        "id": "foRMLZ0rCyAl"
      },
      "source": [
        "#Acurácia"
      ]
    },
    {
      "cell_type": "code",
      "metadata": {
        "id": "gsd11zb5DhK5"
      },
      "source": [
        "acuracia = accuracy_score(y_modelo, y_teste)"
      ],
      "execution_count": 10,
      "outputs": []
    },
    {
      "cell_type": "code",
      "metadata": {
        "colab": {
          "base_uri": "https://localhost:8080/"
        },
        "id": "XEUmGADQDxNu",
        "outputId": "946379fb-921c-4111-85a5-b72706881325"
      },
      "source": [
        "acuracia"
      ],
      "execution_count": 11,
      "outputs": [
        {
          "output_type": "execute_result",
          "data": {
            "text/plain": [
              "1.0"
            ]
          },
          "metadata": {
            "tags": []
          },
          "execution_count": 11
        }
      ]
    }
  ]
}